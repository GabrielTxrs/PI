{
 "cells": [
  {
   "cell_type": "code",
   "execution_count": 1,
   "id": "9fe92b95-c16a-4ff2-b43a-be333dc1074c",
   "metadata": {},
   "outputs": [],
   "source": [
    "from pdf2image import convert_from_path\n",
    "\n",
    "# Define o caminho para o arquivo PDF\n",
    "pdf_path = 'prova.pdf'\n",
    "\n",
    "# Define o caminho para o arquivo JPEG de saída\n",
    "jpeg_path = 'prova.jpeg'\n",
    "\n",
    "# Converte o PDF para JPEG\n",
    "pages = convert_from_path(pdf_path)\n",
    "pages[0].save(jpeg_path, 'JPEG')"
   ]
  },
  {
   "cell_type": "code",
   "execution_count": 2,
   "id": "15713a1b-b11a-4515-835a-2aec21c7dce3",
   "metadata": {},
   "outputs": [],
   "source": [
    "import cv2\n",
    "import numpy as np\n",
    "\n",
    "# Carrega a imagem\n",
    "img = cv2.imread('prova.jpeg', cv2.IMREAD_GRAYSCALE)\n",
    "\n",
    "# Define os tamanhos das janelas\n",
    "window_sizes = [(3, 3), (7, 7)]  # Exemplo com janelas 3x3 e 7x7\n",
    "\n",
    "# Aplica a equalização local do histograma para cada tamanho de janela\n",
    "for window_size in window_sizes:\n",
    "    # Cria uma imagem vazia para armazenar o resultado\n",
    "    result = np.zeros_like(img)\n",
    "    \n",
    "    # Percorre a imagem em blocos\n",
    "    for i in range(0, img.shape[0], window_size[0]):\n",
    "        for j in range(0, img.shape[1], window_size[1]):\n",
    "            # Extrai o bloco da imagem\n",
    "            block = img[i:i+window_size[0], j:j+window_size[1]]\n",
    "            \n",
    "            # Aplica a equalização do histograma no bloco\n",
    "            equ = cv2.equalizeHist(block)\n",
    "            \n",
    "            # Insere o bloco equalizado na imagem de resultado\n",
    "            result[i:i+window_size[0], j:j+window_size[1]] = equ\n",
    "    \n",
    "    # Salva a imagem resultante\n",
    "    cv2.imwrite(f'prova_local_eq_{window_size[0]}x{window_size[1]}.jpeg', result)"
   ]
  },
  {
   "cell_type": "code",
   "execution_count": 3,
   "id": "bbf71991-d43b-4afd-80f9-589deb28ce15",
   "metadata": {},
   "outputs": [
    {
     "name": "stdout",
     "output_type": "stream",
     "text": [
      "Input file is not a PDF, checking if it is an image...\n",
      "Input file is an image\n",
      "Image seems valid. Try converting to PDF...\n",
      "Successfully converted to PDF, processing...\n",
      "Scanning contents: 100%|███████████████████████| 1/1 [00:00<00:00, 466.09page/s]\n",
      "    1 \u001b[33m[tesseract] lots of diacritics - possibly poor OCR\u001b[0m               \n",
      "OCR: 100%|██████████████████████████████████| 1.0/1.0 [00:00<00:00,  1.24page/s]\n",
      "Postprocessing...\n",
      "PDF/A conversion: 100%|█████████████████████████| 1/1 [00:00<00:00,  6.61page/s]\n",
      "Recompressing JPEGs: 0image [00:00, ?image/s]\n",
      "Deflating JPEGs: 100%|█████████████████████████| 1/1 [00:00<00:00, 76.79image/s]\n",
      "JBIG2: 0item [00:00, ?item/s]\n",
      "Optimize ratio: 1.01 savings: 1.4%\n",
      "Output file is a PDF/A-2B (as expected)\n",
      "Input file is not a PDF, checking if it is an image...\n",
      "Input file is an image\n",
      "Image seems valid. Try converting to PDF...\n",
      "Successfully converted to PDF, processing...\n",
      "Scanning contents: 100%|███████████████████████| 1/1 [00:00<00:00, 468.38page/s]\n",
      "    1 \u001b[33m[tesseract] lots of diacritics - possibly poor OCR\u001b[0m               \n",
      "    1 [tesseract] Empty page!!                                                  \n",
      "    1 \u001b[33m[tesseract] lots of diacritics - possibly poor OCR\u001b[0m               \n",
      "    1 [tesseract] Empty page!!                                                  \n",
      "OCR: 100%|██████████████████████████████████| 1.0/1.0 [00:01<00:00,  1.07s/page]\n",
      "Postprocessing...\n",
      "PDF/A conversion: 100%|█████████████████████████| 1/1 [00:00<00:00, 43.39page/s]\n",
      "Recompressing JPEGs: 0image [00:00, ?image/s]\n",
      "Deflating JPEGs: 100%|█████████████████████████| 1/1 [00:00<00:00, 73.00image/s]\n",
      "JBIG2: 0item [00:00, ?item/s]\n",
      "Optimize ratio: 1.01 savings: 1.3%\n",
      "Output file is a PDF/A-2B (as expected)\n"
     ]
    }
   ],
   "source": [
    "# Define os caminhos para as imagens processadas\n",
    "image_paths = [\n",
    "    'prova_local_eq_3x3.jpeg',\n",
    "    'prova_local_eq_7x7.jpeg'\n",
    "]\n",
    "\n",
    "# Define a resolução da imagem (DPI)\n",
    "image_dpi = 1000\n",
    "\n",
    "# Converte as imagens para PDF e aplica OCR com ocrmypdf\n",
    "for image_path in image_paths:\n",
    "    pdf_path = image_path.replace('.jpeg', '.pdf')  # Define o caminho para o PDF\n",
    "    !ocrmypdf --image-dpi {image_dpi} --force-ocr \"{image_path}\" \"{pdf_path}\"  # Executa ocrmypdf com --image-dpi\n",
    "    \n",
    "    # Extrai o texto do PDF com pdftotext\n",
    "    text_path = pdf_path.replace('.pdf', '.txt')  # Define o caminho para o arquivo de texto\n",
    "    !pdftotext \"{pdf_path}\" \"{text_path}\"  # Executa pdftotext"
   ]
  },
  {
   "cell_type": "code",
   "execution_count": 4,
   "id": "f7f94cb4-f93b-45b5-b66d-15a7d1bc8fdd",
   "metadata": {},
   "outputs": [
    {
     "name": "stdout",
     "output_type": "stream",
     "text": [
      "Questao 2 (4 pontos)\n",
      "\n",
      "Escreva uma fungao para decidir se num tabuleiro de jogo da velha ha um vencedor e, caso exista,\n",
      "qual 6 o simbolo associado a ele.\n",
      "\n",
      "Sua funcéo deve verificar as seguintes situagées anémalas:\n",
      "\n",
      "1, Ocorréncia de mais de um vencedor\n",
      "2. Ocorréncia de mais de dois tipos de simbolos associados aos jogadores\n",
      "\f",
      "\n"
     ]
    }
   ],
   "source": [
    "import pytesseract\n",
    "import cv2\n",
    "\n",
    "# Caminho para a imagem\n",
    "image_path = 'prova.jpeg'\n",
    "\n",
    "# Carrega a imagem em escala de cinza\n",
    "img = cv2.imread(image_path, cv2.IMREAD_GRAYSCALE)\n",
    "\n",
    "# Extrai o texto da imagem usando pytesseract\n",
    "text = pytesseract.image_to_string(img)\n",
    "\n",
    "# Imprime o texto extraído\n",
    "print(text)\n",
    "\n",
    "# Salva o texto em um arquivo (opcional)\n",
    "with open('prova.txt', 'w') as f:\n",
    "    f.write(text)"
   ]
  },
  {
   "cell_type": "code",
   "execution_count": 5,
   "id": "a56f92b6-c560-40f9-9f4a-41e70e9f848b",
   "metadata": {},
   "outputs": [],
   "source": [
    "import pytesseract\n",
    "import cv2\n",
    "\n",
    "# Define os caminhos das imagens\n",
    "image_paths = {\n",
    "    'Original': 'prova.jpeg',\n",
    "    '3x3': 'prova_local_eq_3x3.jpeg',\n",
    "    '7x7': 'prova_local_eq_7x7.jpeg'\n",
    "}\n",
    "\n",
    "# Extrai o texto de cada imagem\n",
    "textos = {}\n",
    "for imagem, caminho in image_paths.items():\n",
    "    img = cv2.imread(caminho, cv2.IMREAD_GRAYSCALE)\n",
    "    text = pytesseract.image_to_string(img)\n",
    "    textos[imagem] = text\n",
    "\n",
    "# Cria o conteúdo da tabela Markdown\n",
    "tabela_markdown = '| Imagem | Texto Encontrado |\\n'\n",
    "tabela_markdown += '|---|---| \\n'\n",
    "\n",
    "for imagem, texto in textos.items():\n",
    "    tabela_markdown += f\"| {imagem} | {texto} |\\n\"\n",
    "\n",
    "# Salva a tabela Markdown em um arquivo\n",
    "with open('comparacao_textos.md', 'w') as f:\n",
    "    f.write(tabela_markdown)"
   ]
  }
 ],
 "metadata": {
  "kernelspec": {
   "display_name": "Python 3 (ipykernel)",
   "language": "python",
   "name": "python3"
  },
  "language_info": {
   "codemirror_mode": {
    "name": "ipython",
    "version": 3
   },
   "file_extension": ".py",
   "mimetype": "text/x-python",
   "name": "python",
   "nbconvert_exporter": "python",
   "pygments_lexer": "ipython3",
   "version": "3.10.12"
  }
 },
 "nbformat": 4,
 "nbformat_minor": 5
}
